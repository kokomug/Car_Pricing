{
 "cells": [
  {
   "attachments": {},
   "cell_type": "markdown",
   "metadata": {},
   "source": [
    "# Set Up"
   ]
  },
  {
   "cell_type": "code",
   "execution_count": null,
   "metadata": {
    "vscode": {
     "languageId": "r"
    }
   },
   "outputs": [
    {
     "ename": "",
     "evalue": "",
     "output_type": "error",
     "traceback": [
      "\u001b[1;31mFailed to start the Kernel. \n",
      "\u001b[1;31mError in loadNamespace(j <- i[[1L]], c(lib.loc, .libPaths()), versionCheck = vI[[j]]) : \n",
      "\u001b[1;31m  there is no package called ‘htmltools’\n",
      "\u001b[1;31mCalls: :: ... loadNamespace -> withRestarts -> withOneRestart -> doWithOneRestart\n",
      "\u001b[1;31mÇalıştırma durduruldu. \n",
      "\u001b[1;31mView Jupyter <a href='command:jupyter.viewOutput'>log</a> for further details."
     ]
    }
   ],
   "source": [
    "# install.packages(\"gridExtra\")\n",
    "# install.packages(\"nortest\")\n",
    "# install.packages(\"ggplot2\")\n",
    "# install.packages(\"readr\")\n",
    "# install.packages(\"caret\")\n",
    "# install.packages('caTools')\n",
    "#install.packages('htmltools')"
   ]
  },
  {
   "cell_type": "code",
   "execution_count": null,
   "metadata": {
    "vscode": {
     "languageId": "r"
    }
   },
   "outputs": [
    {
     "ename": "",
     "evalue": "",
     "output_type": "error",
     "traceback": [
      "\u001b[1;31mFailed to start the Kernel. \n",
      "\u001b[1;31mError in loadNamespace(j <- i[[1L]], c(lib.loc, .libPaths()), versionCheck = vI[[j]]) : \n",
      "\u001b[1;31m  there is no package called ‘htmltools’\n",
      "\u001b[1;31mCalls: :: ... loadNamespace -> withRestarts -> withOneRestart -> doWithOneRestart\n",
      "\u001b[1;31mÇalıştırma durduruldu. \n",
      "\u001b[1;31mView Jupyter <a href='command:jupyter.viewOutput'>log</a> for further details."
     ]
    }
   ],
   "source": [
    "library(plotly)\n",
    "library(gridExtra)\n",
    "library(nortest)\n",
    "library(ggplot2)\n",
    "library(readr)\n",
    "library(caret)\n",
    "library(caTools)\n",
    "# Load data\n",
    "data <- read.csv('Data/Car_sales.csv')"
   ]
  },
  {
   "attachments": {},
   "cell_type": "markdown",
   "metadata": {},
   "source": [
    "# Clean the data"
   ]
  },
  {
   "cell_type": "code",
   "execution_count": null,
   "metadata": {
    "vscode": {
     "languageId": "r"
    }
   },
   "outputs": [
    {
     "ename": "",
     "evalue": "",
     "output_type": "error",
     "traceback": [
      "\u001b[1;31mFailed to start the Kernel. \n",
      "\u001b[1;31mError in loadNamespace(j <- i[[1L]], c(lib.loc, .libPaths()), versionCheck = vI[[j]]) : \n",
      "\u001b[1;31m  there is no package called ‘htmltools’\n",
      "\u001b[1;31mCalls: :: ... loadNamespace -> withRestarts -> withOneRestart -> doWithOneRestart\n",
      "\u001b[1;31mÇalıştırma durduruldu. \n",
      "\u001b[1;31mView Jupyter <a href='command:jupyter.viewOutput'>log</a> for further details."
     ]
    }
   ],
   "source": [
    "# show the head\n",
    "head(data)"
   ]
  },
  {
   "cell_type": "code",
   "execution_count": null,
   "metadata": {
    "vscode": {
     "languageId": "r"
    }
   },
   "outputs": [
    {
     "ename": "",
     "evalue": "",
     "output_type": "error",
     "traceback": [
      "\u001b[1;31mFailed to start the Kernel. \n",
      "\u001b[1;31mError in loadNamespace(j <- i[[1L]], c(lib.loc, .libPaths()), versionCheck = vI[[j]]) : \n",
      "\u001b[1;31m  there is no package called ‘htmltools’\n",
      "\u001b[1;31mCalls: :: ... loadNamespace -> withRestarts -> withOneRestart -> doWithOneRestart\n",
      "\u001b[1;31mÇalıştırma durduruldu. \n",
      "\u001b[1;31mView Jupyter <a href='command:jupyter.viewOutput'>log</a> for further details."
     ]
    }
   ],
   "source": [
    "# drop the colulmns\n",
    "data <- data[, - c(1, 2, 4, 5, 9, 10, 11, 12, 15, 16)]"
   ]
  },
  {
   "cell_type": "code",
   "execution_count": null,
   "metadata": {
    "vscode": {
     "languageId": "r"
    }
   },
   "outputs": [
    {
     "ename": "",
     "evalue": "",
     "output_type": "error",
     "traceback": [
      "\u001b[1;31mFailed to start the Kernel. \n",
      "\u001b[1;31mError in loadNamespace(j <- i[[1L]], c(lib.loc, .libPaths()), versionCheck = vI[[j]]) : \n",
      "\u001b[1;31m  there is no package called ‘htmltools’\n",
      "\u001b[1;31mCalls: :: ... loadNamespace -> withRestarts -> withOneRestart -> doWithOneRestart\n",
      "\u001b[1;31mÇalıştırma durduruldu. \n",
      "\u001b[1;31mView Jupyter <a href='command:jupyter.viewOutput'>log</a> for further details."
     ]
    }
   ],
   "source": [
    "# drop na values \n",
    "data <- na.omit(data)"
   ]
  },
  {
   "cell_type": "code",
   "execution_count": null,
   "metadata": {
    "vscode": {
     "languageId": "r"
    }
   },
   "outputs": [
    {
     "ename": "",
     "evalue": "",
     "output_type": "error",
     "traceback": [
      "\u001b[1;31mFailed to start the Kernel. \n",
      "\u001b[1;31mError in loadNamespace(j <- i[[1L]], c(lib.loc, .libPaths()), versionCheck = vI[[j]]) : \n",
      "\u001b[1;31m  there is no package called ‘htmltools’\n",
      "\u001b[1;31mCalls: :: ... loadNamespace -> withRestarts -> withOneRestart -> doWithOneRestart\n",
      "\u001b[1;31mÇalıştırma durduruldu. \n",
      "\u001b[1;31mView Jupyter <a href='command:jupyter.viewOutput'>log</a> for further details."
     ]
    }
   ],
   "source": [
    "summary(data)\n",
    "# get info about data null values\n",
    "null_values <- is.na(data)\n",
    "colSums(null_values)"
   ]
  },
  {
   "attachments": {},
   "cell_type": "markdown",
   "metadata": {},
   "source": [
    "# Normilaty test"
   ]
  },
  {
   "cell_type": "code",
   "execution_count": null,
   "metadata": {
    "vscode": {
     "languageId": "r"
    }
   },
   "outputs": [
    {
     "ename": "",
     "evalue": "",
     "output_type": "error",
     "traceback": [
      "\u001b[1;31mFailed to start the Kernel. \n",
      "\u001b[1;31mError in loadNamespace(j <- i[[1L]], c(lib.loc, .libPaths()), versionCheck = vI[[j]]) : \n",
      "\u001b[1;31m  there is no package called ‘htmltools’\n",
      "\u001b[1;31mCalls: :: ... loadNamespace -> withRestarts -> withOneRestart -> doWithOneRestart\n",
      "\u001b[1;31mÇalıştırma durduruldu. \n",
      "\u001b[1;31mView Jupyter <a href='command:jupyter.viewOutput'>log</a> for further details."
     ]
    }
   ],
   "source": [
    "ad.test(data$Sales_in_thousands)"
   ]
  },
  {
   "cell_type": "code",
   "execution_count": null,
   "metadata": {
    "vscode": {
     "languageId": "r"
    }
   },
   "outputs": [
    {
     "ename": "",
     "evalue": "",
     "output_type": "error",
     "traceback": [
      "\u001b[1;31mFailed to start the Kernel. \n",
      "\u001b[1;31mError in loadNamespace(j <- i[[1L]], c(lib.loc, .libPaths()), versionCheck = vI[[j]]) : \n",
      "\u001b[1;31m  there is no package called ‘htmltools’\n",
      "\u001b[1;31mCalls: :: ... loadNamespace -> withRestarts -> withOneRestart -> doWithOneRestart\n",
      "\u001b[1;31mÇalıştırma durduruldu. \n",
      "\u001b[1;31mView Jupyter <a href='command:jupyter.viewOutput'>log</a> for further details."
     ]
    }
   ],
   "source": [
    "ks.test(data$Sales_in_thousands, \"pnorm\", mean(data$Sales_in_thousands), sd(data$Sales_in_thousands))"
   ]
  },
  {
   "cell_type": "code",
   "execution_count": null,
   "metadata": {
    "vscode": {
     "languageId": "r"
    }
   },
   "outputs": [
    {
     "ename": "",
     "evalue": "",
     "output_type": "error",
     "traceback": [
      "\u001b[1;31mFailed to start the Kernel. \n",
      "\u001b[1;31mError in loadNamespace(j <- i[[1L]], c(lib.loc, .libPaths()), versionCheck = vI[[j]]) : \n",
      "\u001b[1;31m  there is no package called ‘htmltools’\n",
      "\u001b[1;31mCalls: :: ... loadNamespace -> withRestarts -> withOneRestart -> doWithOneRestart\n",
      "\u001b[1;31mÇalıştırma durduruldu. \n",
      "\u001b[1;31mView Jupyter <a href='command:jupyter.viewOutput'>log</a> for further details."
     ]
    }
   ],
   "source": [
    "shapiro.test(data$Sales_in_thousands)"
   ]
  },
  {
   "attachments": {},
   "cell_type": "markdown",
   "metadata": {},
   "source": [
    "# Visulization"
   ]
  },
  {
   "cell_type": "code",
   "execution_count": null,
   "metadata": {
    "vscode": {
     "languageId": "r"
    }
   },
   "outputs": [
    {
     "ename": "",
     "evalue": "",
     "output_type": "error",
     "traceback": [
      "\u001b[1;31mFailed to start the Kernel. \n",
      "\u001b[1;31mError in loadNamespace(j <- i[[1L]], c(lib.loc, .libPaths()), versionCheck = vI[[j]]) : \n",
      "\u001b[1;31m  there is no package called ‘htmltools’\n",
      "\u001b[1;31mCalls: :: ... loadNamespace -> withRestarts -> withOneRestart -> doWithOneRestart\n",
      "\u001b[1;31mÇalıştırma durduruldu. \n",
      "\u001b[1;31mView Jupyter <a href='command:jupyter.viewOutput'>log</a> for further details."
     ]
    }
   ],
   "source": [
    "# plot scatter using ggplot\n",
    "price_and_sales <- ggplot(data, aes(x = Sales_in_thousands, y = Price_in_thousands)) + geom_point()\n",
    "\n",
    "price_and_sales\n"
   ]
  },
  {
   "attachments": {},
   "cell_type": "markdown",
   "metadata": {},
   "source": [
    "# Data Description (point estimators and confidence intervals)"
   ]
  },
  {
   "cell_type": "code",
   "execution_count": null,
   "metadata": {
    "vscode": {
     "languageId": "r"
    }
   },
   "outputs": [
    {
     "ename": "",
     "evalue": "",
     "output_type": "error",
     "traceback": [
      "\u001b[1;31mFailed to start the Kernel. \n",
      "\u001b[1;31mError in loadNamespace(j <- i[[1L]], c(lib.loc, .libPaths()), versionCheck = vI[[j]]) : \n",
      "\u001b[1;31m  there is no package called ‘htmltools’\n",
      "\u001b[1;31mCalls: :: ... loadNamespace -> withRestarts -> withOneRestart -> doWithOneRestart\n",
      "\u001b[1;31mÇalıştırma durduruldu. \n",
      "\u001b[1;31mView Jupyter <a href='command:jupyter.viewOutput'>log</a> for further details."
     ]
    }
   ],
   "source": [
    "# Sample size\n",
    "n <- 75\n",
    "\n",
    "# Sample mean as point estimation\n",
    "xbar <- mean(data$Fuel_efficiency[1:n], na.rm = TRUE)\n",
    "\n",
    "# Standard deviation\n",
    "s <- sd(data$Fuel_efficiency[1:n])\n",
    "\n",
    "# Margin of error for 90% confidence interval\n",
    "margin <- qt(0.95, df = n - 1) * s / sqrt(n)\n",
    "\n",
    "# Confidence interval\n",
    "low <- xbar - margin\n",
    "high <- xbar + margin\n",
    "confidence_interval <- c(low, high)\n",
    "\n",
    "# Print confidence interval\n",
    "cat(\"90% confidence interval for the mean: CI = \", low, \" < mu < \", high)\n"
   ]
  },
  {
   "attachments": {},
   "cell_type": "markdown",
   "metadata": {},
   "source": [
    "# Hypthoeses testeing "
   ]
  },
  {
   "attachments": {},
   "cell_type": "markdown",
   "metadata": {},
   "source": [
    "Correlation testing: You can examine the relationships between variables using correlation tests. For example:  Test if there is a significant correlation between Engine_size and Horsepower. Test if there is a significant correlation between Fuel_capacity and Fuel_efficiency."
   ]
  },
  {
   "cell_type": "code",
   "execution_count": null,
   "metadata": {
    "vscode": {
     "languageId": "r"
    }
   },
   "outputs": [
    {
     "ename": "",
     "evalue": "",
     "output_type": "error",
     "traceback": [
      "\u001b[1;31mFailed to start the Kernel. \n",
      "\u001b[1;31mError in loadNamespace(j <- i[[1L]], c(lib.loc, .libPaths()), versionCheck = vI[[j]]) : \n",
      "\u001b[1;31m  there is no package called ‘htmltools’\n",
      "\u001b[1;31mCalls: :: ... loadNamespace -> withRestarts -> withOneRestart -> doWithOneRestart\n",
      "\u001b[1;31mÇalıştırma durduruldu. \n",
      "\u001b[1;31mView Jupyter <a href='command:jupyter.viewOutput'>log</a> for further details."
     ]
    }
   ],
   "source": [
    "# Perform the correlation test\n",
    "cor_test <- cor.test(data$Engine_size, data$Horsepower)\n",
    "\n",
    "# Print the correlation test results\n",
    "print(\"Correlation Test Results:\")\n",
    "print(cor_test)\n",
    "# Print the p-value\n",
    "\n",
    "\n",
    "# Interpret the results based on the p-value\n",
    "if (cor_test$p.value < 0.05) {\n",
    "  cat(\"Reject the null hypothesis. There is a significant correlation between Engine_size and Horsepower.\\n\")\n",
    "} else {\n",
    "  cat(\"Accept the null hypothesis. There is no significant correlation between Engine_size and Horsepower.\\n\")\n",
    "}\n"
   ]
  },
  {
   "attachments": {},
   "cell_type": "markdown",
   "metadata": {},
   "source": [
    "Chi-square test: If you have categorical variables or want to examine associations between variables, you can use chi-square tests. For example:\n",
    "\n",
    "Test if there is a significant association between Fuel_efficiency (categorized) and Horsepower (e.g., SUV, Sedan, Hatchback)."
   ]
  },
  {
   "cell_type": "code",
   "execution_count": null,
   "metadata": {
    "vscode": {
     "languageId": "r"
    }
   },
   "outputs": [
    {
     "ename": "",
     "evalue": "",
     "output_type": "error",
     "traceback": [
      "\u001b[1;31mFailed to start the Kernel. \n",
      "\u001b[1;31mError in loadNamespace(j <- i[[1L]], c(lib.loc, .libPaths()), versionCheck = vI[[j]]) : \n",
      "\u001b[1;31m  there is no package called ‘htmltools’\n",
      "\u001b[1;31mCalls: :: ... loadNamespace -> withRestarts -> withOneRestart -> doWithOneRestart\n",
      "\u001b[1;31mÇalıştırma durduruldu. \n",
      "\u001b[1;31mView Jupyter <a href='command:jupyter.viewOutput'>log</a> for further details."
     ]
    }
   ],
   "source": [
    "# Create a contingency table of the two variables\n",
    "cont_table <- table(data$Engine_size, data$Fuel_efficiency)\n",
    "\n",
    "# Perform the chi-square test\n",
    "chi_test <- chisq.test(cont_table)\n",
    "\n",
    "# Print the chi-square test results\n",
    "print(\"Chi-Square Test Results:\")\n",
    "print(chi_test)"
   ]
  },
  {
   "cell_type": "code",
   "execution_count": null,
   "metadata": {
    "vscode": {
     "languageId": "r"
    }
   },
   "outputs": [
    {
     "ename": "",
     "evalue": "",
     "output_type": "error",
     "traceback": [
      "\u001b[1;31mFailed to start the Kernel. \n",
      "\u001b[1;31mError in loadNamespace(j <- i[[1L]], c(lib.loc, .libPaths()), versionCheck = vI[[j]]) : \n",
      "\u001b[1;31m  there is no package called ‘htmltools’\n",
      "\u001b[1;31mCalls: :: ... loadNamespace -> withRestarts -> withOneRestart -> doWithOneRestart\n",
      "\u001b[1;31mÇalıştırma durduruldu. \n",
      "\u001b[1;31mView Jupyter <a href='command:jupyter.viewOutput'>log</a> for further details."
     ]
    }
   ],
   "source": [
    "aovmdl <- aov(Fuel_efficiency ~ Price_in_thousands * Horsepower, data = data)\n",
    "summary(aovmdl)\n",
    "\n",
    "\n"
   ]
  },
  {
   "attachments": {},
   "cell_type": "markdown",
   "metadata": {},
   "source": [
    "# linear regression "
   ]
  },
  {
   "cell_type": "code",
   "execution_count": null,
   "metadata": {
    "vscode": {
     "languageId": "r"
    }
   },
   "outputs": [
    {
     "ename": "",
     "evalue": "",
     "output_type": "error",
     "traceback": [
      "\u001b[1;31mFailed to start the Kernel. \n",
      "\u001b[1;31mError in loadNamespace(j <- i[[1L]], c(lib.loc, .libPaths()), versionCheck = vI[[j]]) : \n",
      "\u001b[1;31m  there is no package called ‘htmltools’\n",
      "\u001b[1;31mCalls: :: ... loadNamespace -> withRestarts -> withOneRestart -> doWithOneRestart\n",
      "\u001b[1;31mÇalıştırma durduruldu. \n",
      "\u001b[1;31mView Jupyter <a href='command:jupyter.viewOutput'>log</a> for further details."
     ]
    }
   ],
   "source": [
    "scale(data)\n",
    "split = sample.split(data$Price_in_thousands, SplitRatio = 0.8)\n",
    "trSET = subset(data, split == TRUE)\n",
    "test = subset(data, split == FALSE)\n",
    "\n",
    "Sales.lnrm <- lm(Price_in_thousands ~ Sales_in_thousands + Horsepower + Fuel_capacity + Fuel_efficiency, data = data)\n",
    "summary(Sales.lm)\n",
    "par(mfrow=c(2,2))\n",
    "plot(Sales.lnrm)\n",
    "par(mfrow=c(1,1))"
   ]
  },
  {
   "attachments": {},
   "cell_type": "markdown",
   "metadata": {},
   "source": [
    "# none paramitrec"
   ]
  },
  {
   "cell_type": "code",
   "execution_count": null,
   "metadata": {
    "vscode": {
     "languageId": "r"
    }
   },
   "outputs": [
    {
     "ename": "",
     "evalue": "",
     "output_type": "error",
     "traceback": [
      "\u001b[1;31mFailed to start the Kernel. \n",
      "\u001b[1;31mError in loadNamespace(j <- i[[1L]], c(lib.loc, .libPaths()), versionCheck = vI[[j]]) : \n",
      "\u001b[1;31m  there is no package called ‘htmltools’\n",
      "\u001b[1;31mCalls: :: ... loadNamespace -> withRestarts -> withOneRestart -> doWithOneRestart\n",
      "\u001b[1;31mÇalıştırma durduruldu. \n",
      "\u001b[1;31mView Jupyter <a href='command:jupyter.viewOutput'>log</a> for further details."
     ]
    }
   ],
   "source": [
    "wilcox.test(data$Sales_in_thousands, data$Price_in_thousands)\n"
   ]
  }
 ],
 "metadata": {
  "kernelspec": {
   "display_name": "R",
   "language": "R",
   "name": "ir"
  },
  "language_info": {
   "codemirror_mode": "r",
   "file_extension": ".r",
   "mimetype": "text/x-r-source",
   "name": "R",
   "pygments_lexer": "r",
   "version": "4.2.3"
  },
  "orig_nbformat": 4
 },
 "nbformat": 4,
 "nbformat_minor": 2
}
